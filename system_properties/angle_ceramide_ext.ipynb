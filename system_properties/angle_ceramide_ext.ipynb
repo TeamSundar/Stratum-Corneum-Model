{
 "cells": [
  {
   "cell_type": "code",
   "execution_count": 1,
   "id": "091d6084",
   "metadata": {},
   "outputs": [],
   "source": [
    "import MDAnalysis as md\n",
    "from MDAnalysis import *\n",
    "import numpy as np\n",
    "import pandas as pd\n",
    "import matplotlib.pyplot as plt\n",
    "import seaborn as sns\n",
    "from MDAnalysis.analysis.leaflet import LeafletFinder, optimize_cutoff\n",
    "from matplotlib.pyplot import figure\n",
    "from MDAnalysis.analysis.rdf import InterRDF\n",
    "import math\n",
    "from scipy import stats"
   ]
  },
  {
   "cell_type": "code",
   "execution_count": 2,
   "id": "f137f17d",
   "metadata": {},
   "outputs": [
    {
     "data": {
      "text/plain": [
       "3001"
      ]
     },
     "execution_count": 2,
     "metadata": {},
     "output_type": "execute_result"
    }
   ],
   "source": [
    "sim = md.Universe('npt_prod_1.gro', 'npt_prod_1-3.trr')\n",
    "len(sim.trajectory)"
   ]
  },
  {
   "cell_type": "code",
   "execution_count": 3,
   "id": "161ff0ef",
   "metadata": {},
   "outputs": [],
   "source": [
    "NP_CS = sim.select_atoms(\"name C18S and resname NP24\")\n",
    "NP_CF = sim.select_atoms(\"name C18F and resname NP24\")\n",
    "NP_NF = sim.select_atoms(\"name NF and resname NP24\")\n",
    "AP_CS = sim.select_atoms(\"name C18S and resname AP24\")\n",
    "AP_CF = sim.select_atoms(\"name C18F and resname AP24\")\n",
    "AP_NF = sim.select_atoms(\"name NF and resname AP24\")"
   ]
  },
  {
   "cell_type": "code",
   "execution_count": 4,
   "id": "681f027d",
   "metadata": {},
   "outputs": [],
   "source": [
    "NP_angles=[];\n",
    "AP_angles=[];\n",
    "for ts in sim.trajectory:\n",
    "    i = 1\n",
    "    for a, b, c in zip(NP_CS.positions, NP_NF.positions, NP_CF.positions):\n",
    "        ba = a - b\n",
    "        bc = c - b\n",
    "        cosine_angle = np.dot(ba,bc) / (np.linalg.norm(ba) * np.linalg.norm(bc))\n",
    "        ang = np.arccos(cosine_angle)\n",
    "        NP_angles.append(( sim.trajectory.time, i, np.degrees(ang) ))\n",
    "        i = i+1\n",
    "        \n",
    "    i = 1    \n",
    "    for a, b, c in zip(AP_CS.positions, AP_NF.positions, AP_CF.positions):\n",
    "        ba = a - b\n",
    "        bc = c - b\n",
    "        cosine_angle = np.dot(ba,bc) / (np.linalg.norm(ba) * np.linalg.norm(bc))\n",
    "        ang = np.arccos(cosine_angle)\n",
    "        AP_angles.append(( sim.trajectory.time, i, np.degrees(ang) ))\n",
    "        i = i+1"
   ]
  },
  {
   "cell_type": "code",
   "execution_count": 5,
   "id": "232db327",
   "metadata": {},
   "outputs": [],
   "source": [
    "NP_angles = np.array(NP_angles)\n",
    "NP = pd.DataFrame(dict(time=NP_angles[:,0], value=NP_angles[:,2], id=NP_angles[:,1], Ceramide='NP'))\n",
    "AP_angles = np.array(AP_angles)\n",
    "AP = pd.DataFrame(dict(time=AP_angles[:,0], value=AP_angles[:,2], id=AP_angles[:,1], Ceramide='AP'))"
   ]
  },
  {
   "cell_type": "code",
   "execution_count": 6,
   "id": "ea6249c6",
   "metadata": {},
   "outputs": [],
   "source": [
    "df = NP.append(AP)"
   ]
  },
  {
   "cell_type": "code",
   "execution_count": 40,
   "id": "bafea8d2",
   "metadata": {},
   "outputs": [
    {
     "data": {
      "image/png": "[encoded data removed]",
      "text/plain": [
       "<Figure size 1500x300 with 1 Axes>"
      ]
     },
     "metadata": {
      "needs_background": "light"
     },
     "output_type": "display_data"
    }
   ],
   "source": [
    "plt.rcParams['text.color'] = 'black'\n",
    "plt.rcParams['axes.labelcolor'] = 'black'\n",
    "figure(num=None, figsize=(2.5,0.5), dpi=600)\n",
    "\n",
    "#plt.boxplot(NP.value, AP.value)\n",
    "\n",
    "PROPS = {\n",
    "    'boxprops':{'facecolor':'none', 'edgecolor':'blue'},\n",
    "    'medianprops':{'color':'blue'},\n",
    "    'whiskerprops':{'color':'blue'},\n",
    "    'capprops':{'color':'blue'},\n",
    "    'flierprops':{'markerfacecolor':'none','markeredgecolor':'deepskyblue', 'marker':'|', 'linewidth':'1.0'}\n",
    "}\n",
    "\n",
    "g = sns.boxplot(y=\"Ceramide\", x=\"value\", data=df,  linewidth=0.5, \n",
    "                fliersize=0.5, **PROPS)\n",
    "\n",
    "\n",
    "\n",
    "plt.xlabel('')\n",
    "plt.ylabel('')\n",
    "plt.xticks((np.arange(0, 181, step=60)),fontsize=6)\n",
    "plt.yticks(fontsize=6)\n",
    "#plt.legend()\n",
    "plt.xlim([-5, 185])\n",
    "\n",
    "plt.savefig('cer-ext_angle.png',bbox_inches='tight')"
   ]
  },
  {
   "cell_type": "code",
   "execution_count": 31,
   "id": "367f1a43",
   "metadata": {},
   "outputs": [
    {
     "data": {
      "text/plain": [
       "163.4067509704453"
      ]
     },
     "execution_count": 31,
     "metadata": {},
     "output_type": "execute_result"
    }
   ],
   "source": [
    "AP.value.mean()"
   ]
  },
  {
   "cell_type": "code",
   "execution_count": 35,
   "id": "d772058b",
   "metadata": {},
   "outputs": [
    {
     "data": {
      "text/plain": [
       "155.48176414212273"
      ]
     },
     "execution_count": 35,
     "metadata": {},
     "output_type": "execute_result"
    }
   ],
   "source": [
    "NP.value.mean()"
   ]
  }
 ],
 "metadata": {
  "kernelspec": {
   "display_name": "Python 3 (ipykernel)",
   "language": "python",
   "name": "python3"
  },
  "language_info": {
   "codemirror_mode": {
    "name": "ipython",
    "version": 3
   },
   "file_extension": ".py",
   "mimetype": "text/x-python",
   "name": "python",
   "nbconvert_exporter": "python",
   "pygments_lexer": "ipython3",
   "version": "3.9.13"
  }
 },
 "nbformat": 4,
 "nbformat_minor": 5
}
